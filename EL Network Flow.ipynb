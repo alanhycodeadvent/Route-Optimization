{
 "cells": [
  {
   "cell_type": "code",
   "execution_count": 1,
   "id": "bd86be75",
   "metadata": {},
   "outputs": [],
   "source": [
    "# Import the usual packages\n",
    "import pandas as pd\n",
    "import gurobipy as gp\n",
    "from gurobipy import GRB\n",
    "\n",
    "# Load data as pandas DataFrames\n",
    "order = pd.read_csv(\"order.csv\")\n",
    "constraint = pd.read_csv(\"constraints.csv\")"
   ]
  },
  {
   "cell_type": "code",
   "execution_count": 5,
   "id": "73d3cde6",
   "metadata": {},
   "outputs": [],
   "source": [
    "# Calculate the set amount from origin port and set demand for destination\n",
    "summary = order.groupby(['Product ID', 'Origin Port'])[['Total Weight']].sum()\n",
    "demand = order.groupby(['Product ID', 'Destination Port'])[['Total Weight']].sum()\n",
    "\n",
    "# Assign variables of set amounts from origin port\n",
    "MIA1 = summary.iloc[0, 0]\n",
    "SF1 = summary.iloc[1, 0]\n",
    "MIA2 = summary.iloc[2, 0]\n",
    "SF2 = summary.iloc[3, 0]\n",
    "P1 = MIA1 + SF1\n",
    "P2 = MIA2 + SF2\n",
    "ef = P1 + P2\n",
    "\n",
    "# Assign variables of set demand for destination\n",
    "O1 = demand.iloc[0, 0]\n",
    "B1 = demand.iloc[1, 0]\n",
    "H1 = demand.iloc[2, 0]\n",
    "R1 = demand.iloc[3, 0]\n",
    "O2 = demand.iloc[4, 0]\n",
    "B2 = demand.iloc[5, 0]\n",
    "H2 = demand.iloc[6, 0]\n",
    "R2 = demand.iloc[7, 0]"
   ]
  },
  {
   "cell_type": "code",
   "execution_count": 2,
   "id": "c8e67102",
   "metadata": {},
   "outputs": [
    {
     "name": "stdout",
     "output_type": "stream",
     "text": [
      "Set parameter Username\n",
      "Academic license - for non-commercial use only - expires 2024-10-25\n"
     ]
    }
   ],
   "source": [
    "# Create a blank model\n",
    "m = gp.Model()"
   ]
  },
  {
   "cell_type": "code",
   "execution_count": 9,
   "id": "50a3a151",
   "metadata": {},
   "outputs": [],
   "source": [
    "# Add variables\n",
    "SM1 = m.addVar(lb = MIA1, ub = MIA1)\n",
    "SM2 = m.addVar(lb = MIA2, ub = MIA2)\n",
    "SS1 = m.addVar(lb = SF1, ub = SF1)\n",
    "SS2 = m.addVar(lb = SF2, ub = SF2)\n",
    "M1B1 = m.addVar(lb = 0, ub = P1)\n",
    "M2B2 = m.addVar(lb = 0, ub = P2)\n",
    "M1H1 = m.addVar(lb = 0, ub = P1)\n",
    "M2H2 = m.addVar(lb = 0, ub = P2)\n",
    "M1R1 = m.addVar(lb = 0, ub = P1)\n",
    "M2R2 = m.addVar(lb = 0, ub = P2)\n",
    "M1O1 = m.addVar(lb = 0, ub = P1)\n",
    "M2O2 = m.addVar(lb = 0, ub = P2)\n",
    "S1B1 = m.addVar(lb = 0, ub = P1)\n",
    "S2B2 = m.addVar(lb = 0, ub = P2)\n",
    "S1H1 = m.addVar(lb = 0, ub = P1)\n",
    "S2H2 = m.addVar(lb = 0, ub = P2)\n",
    "S1R1 = m.addVar(lb = 0, ub = P1)\n",
    "S2R2 = m.addVar(lb = 0, ub = P2)\n",
    "S1O1 = m.addVar(lb = 0, ub = P1)\n",
    "S2O2 = m.addVar(lb = 0, ub = P2)\n",
    "B1H1 = m.addVar(lb = 0, ub = P1)\n",
    "B2H2 = m.addVar(lb = 0, ub = P2)\n",
    "B1O1 = m.addVar(lb = 0, ub = P1)\n",
    "B2O2 = m.addVar(lb = 0, ub = P2)\n",
    "B1T = m.addVar(lb = B1, ub = B1)\n",
    "B2T = m.addVar(lb = B2, ub = B2)\n",
    "H1T = m.addVar(lb = H1, ub = H1)\n",
    "H2T = m.addVar(lb = H2, ub = H2)\n",
    "R1H1 = m.addVar(lb = 0, ub = P1)\n",
    "R2H2 = m.addVar(lb = 0, ub = P2)\n",
    "R101 = m.addVar(lb = 0, ub = P1)\n",
    "R202 = m.addVar(lb = 0, ub = P2)\n",
    "R1T = m.addVar(lb = R1, ub = R1)\n",
    "R2T = m.addVar(lb = R2, ub = R2)\n",
    "O1T = m.addVar(lb = O1, ub = O1)\n",
    "O2T = m.addVar(lb = O2, ub = O2) # and more....."
   ]
  },
  {
   "cell_type": "code",
   "execution_count": 10,
   "id": "45d8f085",
   "metadata": {},
   "outputs": [
    {
     "data": {
      "text/plain": [
       "<gurobi.Constr *Awaiting Model Update*>"
      ]
     },
     "execution_count": 10,
     "metadata": {},
     "output_type": "execute_result"
    }
   ],
   "source": [
    "# Model creation\n",
    "E = 36 # Number of edges\n",
    "costs = constraint[\"Cost\"]\n",
    "list_var = [SM1,SM2,SS1,SS2,M1B1,M2B2,M1H1,M2H2,M1R1,M2R2,M1O1,M2O2,S1B1,S2B2,\n",
    "            S1H1,S2H2,S1R1,S2R2,S1O1,S2O2,B1H1,B2H2,B1O1,B2O2,B1T,B2T,H1T,H2T,\n",
    "            R1H1,R2H2,R101,R202,R1T,R2T,O1T,O2T]\n",
    "var = pd.Series(list_var)\n",
    "\n",
    "# Set objective\n",
    "m.setObjective(gp.quicksum(costs[i]*var[i] for i in range(E)), GRB.MINIMIZE)\n",
    "\n",
    "# Add constraints: flow in = flow out\n",
    "m.addConstr(ef-(SM1+SM2+SS1+SS2)==0) # Sink\n",
    "m.addConstr(SM1-(M1B1+M1H1+M1R1+M1O1)==0) # M1\n",
    "m.addConstr(SM2-(M2B2+M2H2+M2R2+M2O2)==0) # M2\n",
    "m.addConstr(SS1-(S1B1+S1H1+S1R1+S1O1)==0) # S1\n",
    "m.addConstr(SS2-(S2B2+S2H2+S2R2+S2O2)==0) # S2\n",
    "m.addConstr((M1B1+S1B1)-(B1H1+B1O1+B1T)==0) # B1\n",
    "m.addConstr((M2B2+S2B2)-(B2H2+B2O2+B2T)==0) # B2\n",
    "m.addConstr((M1H1+S1H1+B1H1+R1H1)-H1T==0) # H1\n",
    "m.addConstr((M2H2+S2H2+B2H2+R2H2)-H2T==0) # H2\n",
    "m.addConstr((M1R1+S1R1)-(R1H1+R101+R1T)==0) # R1\n",
    "m.addConstr((M2R2+S2R2)-(R2H2+R202+R2T)==0) # R2\n",
    "m.addConstr((M1O1+S1O1+B1O1+R101)-O1T==0) # O1\n",
    "m.addConstr((M2O2+S2O2+B2O2+R202)-O2T==0) # O2\n",
    "m.addConstr((B1T+B2T+H1T+H2T+R1T+R2T+O1T+O2T)-ef==0) # T"
   ]
  },
  {
   "cell_type": "code",
   "execution_count": 12,
   "id": "27aef99f",
   "metadata": {},
   "outputs": [
    {
     "name": "stdout",
     "output_type": "stream",
     "text": [
      "Gurobi Optimizer version 10.0.3 build v10.0.3rc0 (win64)\n",
      "\n",
      "CPU model: AMD Ryzen 7 4800HS with Radeon Graphics, instruction set [SSE2|AVX|AVX2]\n",
      "Thread count: 8 physical cores, 16 logical processors, using up to 16 threads\n",
      "\n",
      "Optimize a model with 14 rows, 36 columns and 72 nonzeros\n",
      "Model fingerprint: 0x143e95ad\n",
      "Coefficient statistics:\n",
      "  Matrix range     [1e+00, 1e+00]\n",
      "  Objective range  [1e-01, 7e-01]\n",
      "  Bounds range     [5e+07, 3e+08]\n",
      "  RHS range        [5e+08, 5e+08]\n",
      "Presolve removed 2 rows and 12 columns\n",
      "Presolve time: 0.01s\n",
      "Presolved: 12 rows, 24 columns, 48 nonzeros\n",
      "\n",
      "Iteration    Objective       Primal Inf.    Dual Inf.      Time\n",
      "       0    1.6862007e+08   1.051676e+09   0.000000e+00      0s\n",
      "      13    3.0453116e+08   0.000000e+00   0.000000e+00      0s\n",
      "\n",
      "Solved in 13 iterations and 0.02 seconds (0.00 work units)\n",
      "Optimal objective  3.045311554e+08\n"
     ]
    }
   ],
   "source": [
    "m.optimize()"
   ]
  },
  {
   "cell_type": "code",
   "execution_count": 17,
   "id": "aa826b4d",
   "metadata": {},
   "outputs": [
    {
     "name": "stdout",
     "output_type": "stream",
     "text": [
      "Minimum total cost:  304531155.4050001 \n",
      "\n",
      "Optimal shipping route:\n",
      "SM1 : 110866057.5\n",
      "SM2 : 142444854.3\n",
      "SS1 : 119927600.5\n",
      "SS2 : 152599434.4\n",
      "M1B1 : 59130376.5\n",
      "M2B2 : 68987598.40000002\n",
      "M1H1 : 0.0\n",
      "M2H2 : 0.0\n",
      "M1R1 : 47737074.0\n",
      "M2R2 : 73457255.89999999\n",
      "M1O1 : 3998607.0\n",
      "M2O2 : 0.0\n",
      "S1B1 : 0.0\n",
      "S2B2 : 0.0\n",
      "S1H1 : 54524988.0\n",
      "S2H2 : 74001274.9\n",
      "S1R1 : 0.0\n",
      "S2R2 : 2001434.400000006\n",
      "S1O1 : 65402612.5\n",
      "S2O2 : 76596725.1\n",
      "B1H1 : 0.0\n",
      "B2H2 : 0.0\n",
      "B1O1 : 0.0\n",
      "B2O2 : 0.0\n",
      "B1T : 59130376.5\n",
      "B2T : 68987598.4\n",
      "H1T : 54524988.0\n",
      "H2T : 74001274.9\n",
      "R1H1 : 0.0\n",
      "R2H2 : 0.0\n",
      "R1O1 : 0.0\n",
      "R2O2 : 0.0\n",
      "R1T : 47737074.0\n",
      "R2T : 75458690.3\n",
      "O1T : 69401219.5\n",
      "O2T : 76596725.1\n"
     ]
    }
   ],
   "source": [
    "var = constraint[\"Label\"]\n",
    "print(\"Minimum total cost: \", m.ObjVal, \"\\n\")\n",
    "print(\"Optimal shipping route:\")\n",
    "for i in range(E):\n",
    "  print(var[i], \":\", list_var[i].X)"
   ]
  }
 ],
 "metadata": {
  "kernelspec": {
   "display_name": "Python (45850)",
   "language": "python",
   "name": "45850"
  },
  "language_info": {
   "codemirror_mode": {
    "name": "ipython",
    "version": 3
   },
   "file_extension": ".py",
   "mimetype": "text/x-python",
   "name": "python",
   "nbconvert_exporter": "python",
   "pygments_lexer": "ipython3",
   "version": "3.7.16"
  }
 },
 "nbformat": 4,
 "nbformat_minor": 5
}
